{
 "cells": [
  {
   "cell_type": "code",
   "execution_count": 2,
   "id": "a569933a",
   "metadata": {},
   "outputs": [
    {
     "data": {
      "text/plain": [
       "Float64"
      ]
     },
     "execution_count": 2,
     "metadata": {},
     "output_type": "execute_result"
    }
   ],
   "source": [
    "using ParamViz #load package\n",
    "using ClimaLSM\n",
    "using ClimaLSM.Soil.Biogeochemistry\n",
    "FT = Float64"
   ]
  },
  {
   "cell_type": "code",
   "execution_count": 6,
   "id": "3828233e",
   "metadata": {},
   "outputs": [
    {
     "data": {
      "text/plain": [
       "Drivers((\"Soil temperature\", \"Soil moisture\"), (283.0, 0.4), ([273.0, 323.0], [0.1, 0.8]))"
      ]
     },
     "execution_count": 6,
     "metadata": {},
     "output_type": "execute_result"
    }
   ],
   "source": [
    "drivers = Drivers( #Drivers(names, values, ranges)\n",
    "                    (\"Soil temperature\", \"Soil moisture\"), #drivers.names\n",
    "                    FT.((283, 0.4)), #drivers.values\n",
    "                    (FT.([273, 323]),FT.([0.1, 0.8])) #drivers.ranges\n",
    "                 )"
   ]
  },
  {
   "cell_type": "code",
   "execution_count": 10,
   "id": "a83a977f",
   "metadata": {},
   "outputs": [
    {
     "data": {
      "text/plain": [
       "(\"Pressure at the surface of the soil (Pa)\", \"Diffusivity of soil C substrate in liquid (unitless)\", \"Soil porosity (m³ m⁻³)\", \"Air-filled porosity at soil water potential of -100 cm H₂O (~ 10 Pa)\", \"Diffusion coefficient for CO₂ in air at standard temperature and pressure (m² s⁻¹)\", \"Absolute value of the slope of the line relating log(ψ) versus log(θ) (unitless)\", \"Pre-exponential factor (kg C m-3 s-1)\", \"Activation energy (J mol-1)\", \"Michaelis constant (kg C m-3)\", \"Michaelis constant for O2 (m3 m-3)\", \"Volumetric fraction of O₂ in the soil air, dimensionless\", \"Diffusion coefficient of oxygen in air, dimensionless\", \"Fraction of soil carbon that is considered soluble, dimensionless\", \"Physical constants used Clima-wide\")"
      ]
     },
     "execution_count": 10,
     "metadata": {},
     "output_type": "execute_result"
    }
   ],
   "source": [
    "#parameters = Parameters(\n",
    "                        (\"Pressure at the surface of the soil (Pa)\",\n",
    "                            \n",
    "                        \"Diffusivity of soil C substrate in liquid (unitless)\",\n",
    "                            \n",
    "                        \"Soil porosity (m³ m⁻³)\",\n",
    "                            \n",
    "                        \"Air-filled porosity at soil water potential of -100 cm H₂O (~ 10 Pa)\",\n",
    "                            \n",
    "                        \"Diffusion coefficient for CO₂ in air at standard temperature and pressure (m² s⁻¹)\",\n",
    "                            \n",
    "                        \"Absolute value of the slope of the line relating log(ψ) versus log(θ) (unitless)\",\n",
    "                           \n",
    "                        # DAMM\n",
    "                        \"Pre-exponential factor (kg C m-3 s-1)\",\n",
    "                            \n",
    "                        \"Activation energy (J mol-1)\",\n",
    "                            \n",
    "                        \"Michaelis constant (kg C m-3)\",\n",
    "                            \n",
    "                        \"Michaelis constant for O2 (m3 m-3)\",\n",
    "                            \n",
    "                        \"Volumetric fraction of O₂ in the soil air, dimensionless\",\n",
    "                            \n",
    "                        \"Diffusion coefficient of oxygen in air, dimensionless\",\n",
    "                            \n",
    "                        \"Fraction of soil carbon that is considered soluble, dimensionless\",\n",
    "                            \n",
    "                        \"Physical constants used Clima-wide\")\n",
    "                            \n",
    "                        #)"
   ]
  },
  {
   "cell_type": "code",
   "execution_count": 11,
   "id": "9fbca8d1",
   "metadata": {},
   "outputs": [
    {
     "data": {
      "text/plain": [
       "Parameters((\"Soil porosity (m³ m⁻³)\", \"Pre-exponential factor (kg C m-3 s-1)\", \"Activation energy (J mol-1)\", \"Michaelis constant (kg C m-3)\", \"Michaelis constant for O2 (m3 m-3)\", \"Volumetric fraction of O₂ in the soil air, dimensionless\", \"Fraction of soil carbon that is considered soluble, dimensionless\"), (0.556, 194000.0, 61000.0, 0.005, 0.004, 0.209, 0.024), ([0.1, 0.9], [100000.0, 300000.0], [30000.0, 90000.0], [0.001, 0.009], [0.001, 0.009], [0.005, 0.5], [0.005, 0.5]))"
      ]
     },
     "execution_count": 11,
     "metadata": {},
     "output_type": "execute_result"
    }
   ],
   "source": [
    "parameters = Parameters(\n",
    "                        (# names   \n",
    "                        \"Soil porosity (m³ m⁻³)\",\n",
    "                        \"Pre-exponential factor (kg C m-3 s-1)\",                            \n",
    "                        \"Activation energy (J mol-1)\",                            \n",
    "                        \"Michaelis constant (kg C m-3)\",                          \n",
    "                        \"Michaelis constant for O2 (m3 m-3)\",                            \n",
    "                        \"Volumetric fraction of O₂ in the soil air, dimensionless\",                                                      \n",
    "                        \"Fraction of soil carbon that is considered soluble, dimensionless\",),\n",
    "                        \n",
    "                        (# values\n",
    "                        FT(0.556), # ν   \n",
    "                        FT(194e3), # α_sx\n",
    "                        FT(61e3), # Ea_sx\n",
    "                        FT(5e-3), # kM_sx\n",
    "                        FT(0.004), # kM_o2\n",
    "                        FT(0.209), # O2_a\n",
    "                        FT(0.024)), # p_sx\n",
    "    \n",
    "                        (#ranges\n",
    "                        FT.([0.1, 0.9]), # porosity\n",
    "                        FT.([100e3, 300e3]), # α_sx\n",
    "                        FT.([30e3, 90e3]), # Ea_sx\n",
    "                        FT.([1e-3, 9e-3]), # kM_sx\n",
    "                        FT.([0.001, 0.009]), # kM_o2\n",
    "                        FT.([0.005, 0.5]), # O2_a\n",
    "                        FT.([0.005, 0.5])) # p_sx\n",
    "                    )"
   ]
  },
  {
   "cell_type": "code",
   "execution_count": 12,
   "id": "aeb63efc",
   "metadata": {},
   "outputs": [
    {
     "data": {
      "text/plain": [
       "Constants((\"Pressure at the surface of the soil (Pa)\", \"Diffusivity of soil C substrate in liquid (unitless)\", \"Air-filled porosity at soil water potential of -100 cm H₂O (~ 10 Pa)\", \"Diffusion coefficient for CO₂ in air at standard temperature and pressure (m² s⁻¹)\", \"Absolute value of the slope of the line relating log(ψ) versus log(θ) (unitless)\", \"Diffusion coefficient of oxygen in air, dimensionless\"), (101000.0, 0.1816, 1.39e-5, 4.547, 3.17, 1.67))"
      ]
     },
     "execution_count": 12,
     "metadata": {},
     "output_type": "execute_result"
    }
   ],
   "source": [
    "constants = Constants(\n",
    "                        (# names   \n",
    "                        \"Pressure at the surface of the soil (Pa)\",\n",
    "                        \"Diffusivity of soil C substrate in liquid (unitless)\",\n",
    "                        \"Air-filled porosity at soil water potential of -100 cm H₂O (~ 10 Pa)\",\n",
    "                        \"Diffusion coefficient for CO₂ in air at standard temperature and pressure (m² s⁻¹)\",\n",
    "                        \"Absolute value of the slope of the line relating log(ψ) versus log(θ) (unitless)\",\n",
    "                        \"Diffusion coefficient of oxygen in air, dimensionless\"),\n",
    "                        \n",
    "                        (# values\n",
    "                        FT(101e3), # P_sfc\n",
    "                        FT(0.1816), # θ_a100\n",
    "                        FT(1.39e-5), # D_ref\n",
    "                        FT(4.547), # b\n",
    "                        FT(3.17), # D_liq\n",
    "                        FT(1.67)) # D_oa\n",
    "                    )"
   ]
  },
  {
   "cell_type": "code",
   "execution_count": 13,
   "id": "82a35e27",
   "metadata": {},
   "outputs": [
    {
     "data": {
      "text/plain": [
       "Inputs(Drivers((\"Soil temperature\", \"Soil moisture\"), (283.0, 0.4), ([273.0, 323.0], [0.1, 0.8])), Parameters((\"Soil porosity (m³ m⁻³)\", \"Pre-exponential factor (kg C m-3 s-1)\", \"Activation energy (J mol-1)\", \"Michaelis constant (kg C m-3)\", \"Michaelis constant for O2 (m3 m-3)\", \"Volumetric fraction of O₂ in the soil air, dimensionless\", \"Fraction of soil carbon that is considered soluble, dimensionless\"), (0.556, 194000.0, 61000.0, 0.005, 0.004, 0.209, 0.024), ([0.1, 0.9], [100000.0, 300000.0], [30000.0, 90000.0], [0.001, 0.009], [0.001, 0.009], [0.005, 0.5], [0.005, 0.5])), Constants((\"Pressure at the surface of the soil (Pa)\", \"Diffusivity of soil C substrate in liquid (unitless)\", \"Air-filled porosity at soil water potential of -100 cm H₂O (~ 10 Pa)\", \"Diffusion coefficient for CO₂ in air at standard temperature and pressure (m² s⁻¹)\", \"Absolute value of the slope of the line relating log(ψ) versus log(θ) (unitless)\", \"Diffusion coefficient of oxygen in air, dimensionless\"), (101000.0, 0.1816, 1.39e-5, 4.547, 3.17, 1.67)))"
      ]
     },
     "execution_count": 13,
     "metadata": {},
     "output_type": "execute_result"
    }
   ],
   "source": [
    "inputs = Inputs(drivers, parameters, constants)"
   ]
  },
  {
   "cell_type": "code",
   "execution_count": 14,
   "id": "e11fa8dd",
   "metadata": {},
   "outputs": [
    {
     "data": {
      "text/plain": [
       "Output(\"Rh (μmol m⁻² s⁻¹)\", [0, 20])"
      ]
     },
     "execution_count": 14,
     "metadata": {},
     "output_type": "execute_result"
    }
   ],
   "source": [
    "output = Output(\n",
    "                \"Rh (μmol m⁻² s⁻¹)\", #name\n",
    "                [0, 20] #range\n",
    "                )"
   ]
  },
  {
   "cell_type": "code",
   "execution_count": 15,
   "id": "d17c68f4",
   "metadata": {},
   "outputs": [
    {
     "data": {
      "text/plain": [
       "2-element Vector{Int64}:\n",
       "  0\n",
       " 20"
      ]
     },
     "execution_count": 15,
     "metadata": {},
     "output_type": "execute_result"
    }
   ],
   "source": [
    "output.range"
   ]
  },
  {
   "cell_type": "code",
   "execution_count": null,
   "id": "d1dfe8cc",
   "metadata": {},
   "outputs": [],
   "source": []
  }
 ],
 "metadata": {
  "kernelspec": {
   "display_name": "Julia 1.9.0",
   "language": "julia",
   "name": "julia-1.9"
  },
  "language_info": {
   "file_extension": ".jl",
   "mimetype": "application/julia",
   "name": "julia",
   "version": "1.9.0"
  }
 },
 "nbformat": 4,
 "nbformat_minor": 5
}
